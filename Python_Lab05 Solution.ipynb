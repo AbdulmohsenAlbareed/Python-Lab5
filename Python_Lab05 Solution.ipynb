{
 "cells": [
  {
   "cell_type": "markdown",
   "id": "af95ec77",
   "metadata": {},
   "source": [
    "## Q1: Write a Python program to sum all the items in the list."
   ]
  },
  {
   "cell_type": "code",
   "execution_count": 28,
   "id": "4970640e",
   "metadata": {},
   "outputs": [],
   "source": [
    "Numbers = [5, 4, 17, 19, 30, 2, 7, 10, 45]"
   ]
  },
  {
   "cell_type": "code",
   "execution_count": 29,
   "id": "dec03e7b",
   "metadata": {},
   "outputs": [
    {
     "name": "stdout",
     "output_type": "stream",
     "text": [
      "139\n"
     ]
    }
   ],
   "source": [
    "total_sum = 0\n",
    "\n",
    "for num in Numbers:\n",
    "    total_sum+=num\n",
    "print(total_sum)"
   ]
  },
  {
   "cell_type": "markdown",
   "id": "f5c328d2",
   "metadata": {},
   "source": [
    "## Q2: Write a Python program to get the largest number from the list."
   ]
  },
  {
   "cell_type": "code",
   "execution_count": 30,
   "id": "9cb93a8d",
   "metadata": {},
   "outputs": [
    {
     "name": "stdout",
     "output_type": "stream",
     "text": [
      "45\n"
     ]
    }
   ],
   "source": [
    "max_num = 0\n",
    "\n",
    "for num in Numbers:\n",
    "    if max_num<num:\n",
    "        max_num=num\n",
    "print(max_num)"
   ]
  },
  {
   "cell_type": "markdown",
   "id": "699ce88d",
   "metadata": {},
   "source": [
    "## Q3: Use list comprehension, create a new list from the above list containing only even numbers."
   ]
  },
  {
   "cell_type": "code",
   "execution_count": 31,
   "id": "86cd5849",
   "metadata": {},
   "outputs": [
    {
     "name": "stdout",
     "output_type": "stream",
     "text": [
      "[4, 30, 2, 10]\n"
     ]
    }
   ],
   "source": [
    "Even_Numbers = [num for num in Numbers if num%2==0]\n",
    "print(Even_Numbers)"
   ]
  },
  {
   "cell_type": "markdown",
   "id": "83bcb555",
   "metadata": {},
   "source": [
    "## Q4: Use list slicing to get a new list from the previous list starting from the start to the 5th element in the list."
   ]
  },
  {
   "cell_type": "code",
   "execution_count": 32,
   "id": "3294e04d",
   "metadata": {},
   "outputs": [
    {
     "name": "stdout",
     "output_type": "stream",
     "text": [
      "[5, 4, 17, 19, 30]\n"
     ]
    }
   ],
   "source": [
    "new_list = Numbers[:5]\n",
    "print(new_list)"
   ]
  }
 ],
 "metadata": {
  "kernelspec": {
   "display_name": "Python 3 (ipykernel)",
   "language": "python",
   "name": "python3"
  },
  "language_info": {
   "codemirror_mode": {
    "name": "ipython",
    "version": 3
   },
   "file_extension": ".py",
   "mimetype": "text/x-python",
   "name": "python",
   "nbconvert_exporter": "python",
   "pygments_lexer": "ipython3",
   "version": "3.10.9"
  }
 },
 "nbformat": 4,
 "nbformat_minor": 5
}
